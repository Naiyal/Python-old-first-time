{
 "cells": [
  {
   "cell_type": "code",
   "execution_count": null,
   "metadata": {},
   "outputs": [],
   "source": [
    "first_name = input(\"input first name: \")\n",
    "last_name = input(\"input last name: \")\n",
    "\n",
    "print(\"hello \" + first_name + \" \" + last_name)"
   ]
  },
  {
   "cell_type": "code",
   "execution_count": 1,
   "metadata": {},
   "outputs": [
    {
     "ename": "TypeError",
     "evalue": "can only concatenate str (not \"int\") to str",
     "output_type": "error",
     "traceback": [
      "\u001b[1;31m---------------------------------------------------------------------------\u001b[0m",
      "\u001b[1;31mTypeError\u001b[0m                                 Traceback (most recent call last)",
      "\u001b[1;32m<ipython-input-1-d2ad3b6518c1>\u001b[0m in \u001b[0;36m<module>\u001b[1;34m\u001b[0m\n\u001b[0;32m      4\u001b[0m         \u001b[1;32mreturn\u001b[0m \u001b[0mresult\u001b[0m\u001b[1;33m\u001b[0m\u001b[1;33m\u001b[0m\u001b[0m\n\u001b[0;32m      5\u001b[0m \u001b[1;33m\u001b[0m\u001b[0m\n\u001b[1;32m----> 6\u001b[1;33m \u001b[0mprint\u001b[0m\u001b[1;33m(\u001b[0m\u001b[0mlarger_string\u001b[0m\u001b[1;33m(\u001b[0m\u001b[1;34m\"python \"\u001b[0m\u001b[1;33m+\u001b[0m\u001b[1;36m5\u001b[0m\u001b[1;33m)\u001b[0m\u001b[1;33m)\u001b[0m\u001b[1;33m\u001b[0m\u001b[1;33m\u001b[0m\u001b[0m\n\u001b[0m",
      "\u001b[1;31mTypeError\u001b[0m: can only concatenate str (not \"int\") to str"
     ]
    }
   ],
   "source": [
    "def larger_string(str, n):\n",
    "    for i in range(n):\n",
    "        result = str\n",
    "        return result\n",
    "    \n",
    "print(larger_string(\"python \"+5))    "
   ]
  },
  {
   "cell_type": "code",
   "execution_count": 1,
   "metadata": {},
   "outputs": [
    {
     "name": "stdout",
     "output_type": "stream",
     "text": [
      "   /|\n",
      "  / |\n",
      " /  |\n",
      "/___|\n"
     ]
    }
   ],
   "source": [
    "print(\"   /|\")\n",
    "print(\"  / |\")\n",
    "print(\" /  |\")\n",
    "print(\"/___|\")"
   ]
  },
  {
   "cell_type": "code",
   "execution_count": null,
   "metadata": {},
   "outputs": [],
   "source": [
    "def larger_string(str, n):\n",
    "    result = \"1\"\n",
    "    for i in range(n):\n",
    "        result = result + str\n",
    "    return result\n",
    "\n",
    "print(larger_string(\"abc\", 2))\n",
    "print(larger_string(\".py\", 3))"
   ]
  },
  {
   "cell_type": "code",
   "execution_count": null,
   "metadata": {},
   "outputs": [],
   "source": [
    "for i in range(1, 11):\n",
    "    print(i)\n",
    "    print(\"string\")"
   ]
  },
  {
   "cell_type": "code",
   "execution_count": null,
   "metadata": {},
   "outputs": [],
   "source": [
    "def sum_thrice(a, b, c):\n",
    "    if a  == b == c:\n",
    "        sum = a * 3\n",
    "        return sum\n",
    "    else:\n",
    "        sum = a + b\n",
    "        return sum\n",
    "    \n",
    "x = 3\n",
    "y = 3\n",
    "z = 3\n",
    "\n",
    "print(sum_thrice(x, y, z))"
   ]
  },
  {
   "cell_type": "code",
   "execution_count": null,
   "metadata": {},
   "outputs": [],
   "source": [
    "def sum_thrice(a, b, c):\n",
    "    sum = a + b + c\n",
    "    return sum\n",
    "\n",
    "x = int(input(\"X = \"))\n",
    "y = int(input(\"y = \"))\n",
    "z = int(input(\"z = \"))\n",
    "\n",
    "print(sum_thrice(x, y, z))"
   ]
  },
  {
   "cell_type": "code",
   "execution_count": null,
   "metadata": {},
   "outputs": [],
   "source": [
    "def difference(num):\n",
    "    if num <= 17:\n",
    "        difference = 17 - num\n",
    "        return difference\n",
    "    else:\n",
    "        difference = (number - 17)**2\n",
    "        return difference\n",
    "    \n",
    "number = int(input(\"enter number: \"))\n",
    "\n",
    "print(difference(number))"
   ]
  },
  {
   "cell_type": "code",
   "execution_count": null,
   "metadata": {},
   "outputs": [],
   "source": [
    "def check_number(number):\n",
    "    return (abs(1000 - number) <= 100) or (abs(2000 - number) <= 100)\n",
    "\n",
    "num = int(input(\"enter you number: \"))\n",
    "\n",
    "print(check_number(num))"
   ]
  },
  {
   "cell_type": "code",
   "execution_count": null,
   "metadata": {},
   "outputs": [],
   "source": [
    "number = input(\"enter your number: \")\n",
    "\n",
    "number = int(number)\n",
    "\n",
    "if number >= 1000:\n",
    "    print(\"this is greater than 1000\")\n",
    "    \n",
    "elif number >= 100:\n",
    "    print(\"this is greater than 100\")\n",
    "    \n",
    "elif number >= 10:\n",
    "    print(\"this is greater than 10\")\n",
    "    \n",
    "else:\n",
    "    print(\"this is less than 10\")"
   ]
  },
  {
   "cell_type": "code",
   "execution_count": null,
   "metadata": {},
   "outputs": [],
   "source": [
    "number = input(\"enter your number: \")\n",
    "\n",
    "number = int(number)\n",
    "\n",
    "if number % 2 == 0:\n",
    "    print(\"this is an even number\")\n",
    "    \n",
    "else:\n",
    "    print(\"this is an odd number\")"
   ]
  },
  {
   "cell_type": "code",
   "execution_count": null,
   "metadata": {},
   "outputs": [],
   "source": [
    "from math import pi\n",
    "\n",
    "def circle_area(radius) :\n",
    "    return pi * radius**2\n",
    "\n",
    "def print_area(area) :\n",
    "    return print(\"the area of the circle of radius \" + str(r) + \" is: \" + str(area))\n",
    "\n",
    "r = input(\"input the radius: \")\n",
    "\n",
    "r = float(r)\n",
    "\n",
    "area = circle_area(r)\n",
    "\n",
    "print_area(area)"
   ]
  },
  {
   "cell_type": "code",
   "execution_count": null,
   "metadata": {},
   "outputs": [],
   "source": [
    "from math import pi\n",
    "\n",
    "r = float(input(\"input the radius: \"))\n",
    "\n",
    "area = pi * r**2\n",
    "\n",
    "print(\"the area of the cirche of radius \" + str(r) + \"is: \" + str(area))"
   ]
  },
  {
   "cell_type": "code",
   "execution_count": null,
   "metadata": {},
   "outputs": [],
   "source": [
    "width = input ( \" width: \" )\n",
    "height = input ( \" height: \" )\n",
    "\n",
    "width = int ( width )\n",
    "height = int ( height )\n",
    "\n",
    "area = width * height\n",
    "\n",
    "area = str ( area )\n",
    "\n",
    "print ( \" area is: \" + area )"
   ]
  },
  {
   "cell_type": "code",
   "execution_count": null,
   "metadata": {},
   "outputs": [],
   "source": [
    "from math import pi\n",
    "\n",
    "r = input(\"input the radius of the cirche: \")\n",
    "\n",
    "r = float(r)\n",
    "\n",
    "area = pi * r**2\n",
    "\n",
    "r = str(r)\n",
    "area = str(area)\n",
    "\n",
    "print(\"the area of the circle of the radius \" + r + \" is: \" + area)"
   ]
  },
  {
   "cell_type": "code",
   "execution_count": null,
   "metadata": {},
   "outputs": [],
   "source": [
    "from math import pi\n",
    "\n",
    "def circle_area(radius):\n",
    "    return pi * radius**2\n",
    "def print_area(area):\n",
    "    return print(\"the circle of area is: \" + str(area))\n",
    "\n",
    "r = float(input(\"input the radius: \"))\n",
    "area = circle_area(r)\n",
    "print_area(area)\n",
    "\n",
    "r = float(input(\"input the radius: \"))\n",
    "area = circle_area(r)\n",
    "print_area(area)"
   ]
  }
 ],
 "metadata": {
  "kernelspec": {
   "display_name": "Python 3",
   "language": "python",
   "name": "python3"
  },
  "language_info": {
   "codemirror_mode": {
    "name": "ipython",
    "version": 3
   },
   "file_extension": ".py",
   "mimetype": "text/x-python",
   "name": "python",
   "nbconvert_exporter": "python",
   "pygments_lexer": "ipython3",
   "version": "3.7.6"
  }
 },
 "nbformat": 4,
 "nbformat_minor": 4
}
